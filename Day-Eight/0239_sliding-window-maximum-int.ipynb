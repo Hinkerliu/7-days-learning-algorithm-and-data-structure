{
 "cells": [
  {
   "cell_type": "code",
   "execution_count": null,
   "metadata": {},
   "outputs": [],
   "source": [
    "class Solution(object):\n",
    "    def maxSlidingWindow(self, nums, k):\n",
    "        result = []\n",
    "        q = collections.deque()\n",
    "        for i in range(len(nums)):\n",
    "            n = nums[i]\n",
    "            \n",
    "            #move the window\n",
    "            if q and q[0]<=i-k: q.popleft()\n",
    "\n",
    "            #pop the right if the element in queue is not greater than the in-coming one\n",
    "            #by doing this, we can always keep the max in the current window at left most\n",
    "            while q and nums[q[-1]]<=n: q.pop()\n",
    "\n",
    "            q.append(i)\n",
    "\n",
    "            #add the max to the output array after the first kth element\n",
    "            if 1+i>=k: result.append(nums[q[0]])\n",
    "        return result"
   ]
  }
 ],
 "metadata": {
  "kernelspec": {
   "display_name": "Python 3",
   "language": "python",
   "name": "python3"
  },
  "language_info": {
   "codemirror_mode": {
    "name": "ipython",
    "version": 3
   },
   "file_extension": ".py",
   "mimetype": "text/x-python",
   "name": "python",
   "nbconvert_exporter": "python",
   "pygments_lexer": "ipython3",
   "version": "3.7.4"
  }
 },
 "nbformat": 4,
 "nbformat_minor": 4
}
