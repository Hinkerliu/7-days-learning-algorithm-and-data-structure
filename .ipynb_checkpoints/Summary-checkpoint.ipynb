{
 "cells": [
  {
   "cell_type": "markdown",
   "metadata": {},
   "source": [
    "## 结业总结"
   ]
  },
  {
   "cell_type": "markdown",
   "metadata": {},
   "source": [
    "通过一周的学习：\n",
    "1. 认识到算法的重要性，了解了基本的一些算法和数据结构；\n",
    "2. 克服了对算法的恐惧，找到基本的学习算法的方法；\n",
    "3. 开始尝试去LeetCode刷题，加深了对算法的理解，特别是老师的“五毒神掌”、“五步刷题法”，能够更快的理解题目、完成题目；\n",
    "4. 课程安排比较合理，能够比较系统的有效学习算法和数据结构。\n",
    "5. 每天坚持刷题。\n",
    "\n",
    "为自己加油！ 感谢老师！"
   ]
  }
 ],
 "metadata": {
  "kernelspec": {
   "display_name": "Python 3",
   "language": "python",
   "name": "python3"
  },
  "language_info": {
   "codemirror_mode": {
    "name": "ipython",
    "version": 3
   },
   "file_extension": ".py",
   "mimetype": "text/x-python",
   "name": "python",
   "nbconvert_exporter": "python",
   "pygments_lexer": "ipython3",
   "version": "3.7.4"
  }
 },
 "nbformat": 4,
 "nbformat_minor": 4
}
